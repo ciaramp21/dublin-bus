{
 "cells": [
  {
   "cell_type": "code",
   "execution_count": 1,
   "id": "prompt-cotton",
   "metadata": {},
   "outputs": [],
   "source": [
    "import requests\n",
    "import json\n",
    "import pymysql\n",
    "import time\n",
    "import datetime\n",
    "import traceback"
   ]
  },
  {
   "cell_type": "code",
   "execution_count": 2,
   "id": "2aae2fd6",
   "metadata": {},
   "outputs": [],
   "source": [
    "#reading in the file with the Apikey and login information. \n",
    "f = open('Open_weather_API_login.txt')\n",
    "line = f.readlines() \n",
    "converted_list=[]\n",
    "\n",
    "for element in line:\n",
    "    converted_list.append(element.strip())\n",
    "\n",
    "\n",
    "STATIONS_URI=converted_list[0]\n",
    "APIKEY=converted_list[1]\n",
    "host=converted_list[2]\n",
    "db_name=converted_list[3]\n",
    "user_name=converted_list[4]\n",
    "password=converted_list[5]\n",
    "\n",
    "#cursorType=pymysql.cursors.DictCursor\n",
    "\n"
   ]
  },
  {
   "cell_type": "code",
   "execution_count": 3,
   "id": "3745499d",
   "metadata": {},
   "outputs": [],
   "source": [
    "lat = \"53.3498\"\n",
    "lon = \"-6.2603\"\n",
    "url = \"https://api.openweathermap.org/data/2.5/weather?lat=%s&lon=%s&appid=%s&units=metric\" % (lat, lon, APIKEY)"
   ]
  },
  {
   "cell_type": "code",
   "execution_count": 4,
   "id": "earned-startup",
   "metadata": {},
   "outputs": [],
   "source": [
    "def get_data(url):\n",
    "    \n",
    "    #Connecting to the OPen Weather API \n",
    "    r=requests.get(url)\n",
    "    json_obj=json.loads(r.text)\n",
    "   \n",
    "    return json_obj\n",
    "\n",
    "def convert_data(json_obj):   \n",
    "    #Connecting to the dublinbus DB\n",
    "    connectionObject = pymysql.connect(host = host,user = user_name,db=db_name, passwd = password,port=3306)\n",
    "    cursorObject = connectionObject.cursor()\n",
    "\n",
    "    #Creating table current_weather in dublinbus DB if it doesn't exist.\n",
    "    sqlQuery= \"CREATE TABLE IF NOT EXISTS current_weather(date DATETIME, temp VARCHAR(5), feels_like FLOAT,  wind_speed FLOAT,clouds_all INT ,weather_id INT,weather_main VARCHAR(20),weather_description VARCHAR (45),sunrise DATETIME,sunset DATETIME,icon VARCHAR(10))\"\n",
    "    cursorObject.execute(sqlQuery)\n",
    "    # parse json data to SQL insert\n",
    "    for i in enumerate(json_obj):\n",
    "        date=json_obj.get(\"dt\")\n",
    "        temp=json_obj.get(\"main\").get(\"temp\", None)\n",
    "        feels_like=json_obj.get(\"main\").get(\"feels_like\", None)\n",
    "        wind_speed=json_obj.get(\"wind\").get(\"speed\", None)\n",
    "        clouds_all=json_obj.get(\"clouds\").get(\"all\", None)\n",
    "        weather_id=json_obj.get(\"weather\")[0].get(\"id\", None)\n",
    "        weather_main=json_obj.get(\"weather\")[0].get(\"main\", None)\n",
    "        weather_description=json_obj.get(\"weather\")[0].get(\"description\", None)\n",
    "        sunrise = json_obj.get(\"sys\").get(\"sunrise\", None)\n",
    "        sunset=json_obj.get(\"sys\").get(\"sunset\", None)\n",
    "        icon=json_obj.get(\"weather\")[0].get(\"icon\", None)\n",
    "\n",
    "    #converting UTC time into datetime for insertion to database    \n",
    "    dt=int(date)\n",
    "    sr=int(sunrise)\n",
    "    ss=int(sunset)\n",
    "    date=datetime.datetime.utcfromtimestamp(dt).strftime('%Y-%m-%d %H:%M:%S')\n",
    "    sunrise=datetime.datetime.utcfromtimestamp(sr).strftime('%Y-%m-%d %H:%M:%S')\n",
    "    sunset=datetime.datetime.utcfromtimestamp(ss).strftime('%Y-%m-%d %H:%M:%S')\n",
    "\n",
    "    #Inserting values into current_weather table in dublinbus schema.\n",
    "    cursorObject.execute(\"INSERT INTO current_weather (date,temp,feels_like,wind_speed, clouds_all, weather_id,weather_main,weather_description,sunrise,sunset,icon) VALUES (%s,%s,%s,%s,%s,%s,%s,%s,%s,%s,%s)\", (date,temp,feels_like,wind_speed, clouds_all, weather_id,weather_main,weather_description,sunrise,sunset,icon))\n",
    "\n",
    "    \n",
    "    \n",
    "    connectionObject.commit()\n",
    "    connectionObject.close()\n",
    "\n",
    "def main():\n",
    "\n",
    "    try:\n",
    "        json_obj=get_data(url)\n",
    "        df=convert_data(json_obj)\n",
    "    except:\n",
    "        print(traceback.format_exc())\n",
    "\n",
    "if __name__ == \"__main__\":\n",
    "    main()"
   ]
  },
  {
   "cell_type": "code",
   "execution_count": null,
   "id": "9161411a",
   "metadata": {},
   "outputs": [],
   "source": []
  },
  {
   "cell_type": "code",
   "execution_count": null,
   "id": "d276b568",
   "metadata": {},
   "outputs": [],
   "source": []
  },
  {
   "cell_type": "code",
   "execution_count": null,
   "id": "valued-portugal",
   "metadata": {},
   "outputs": [],
   "source": []
  }
 ],
 "metadata": {
  "kernelspec": {
   "display_name": "Python 3",
   "language": "python",
   "name": "python3"
  },
  "language_info": {
   "codemirror_mode": {
    "name": "ipython",
    "version": 3
   },
   "file_extension": ".py",
   "mimetype": "text/x-python",
   "name": "python",
   "nbconvert_exporter": "python",
   "pygments_lexer": "ipython3",
   "version": "3.6.13"
  }
 },
 "nbformat": 4,
 "nbformat_minor": 5
}
