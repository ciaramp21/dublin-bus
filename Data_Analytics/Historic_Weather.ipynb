{
 "cells": [
  {
   "cell_type": "code",
   "execution_count": 1,
   "id": "0ba30e71",
   "metadata": {},
   "outputs": [],
   "source": [
    "# importing required packages. \n",
    "import pandas as pd\n",
    "import datetime as dt\n"
   ]
  },
  {
   "cell_type": "code",
   "execution_count": 2,
   "id": "a1dd7c31",
   "metadata": {},
   "outputs": [],
   "source": [
    "#reading in the datas required to prepare the data quality report to the variable df.\n",
    "df=pd.read_csv('2018_historic_weather_3.csv')"
   ]
  },
  {
   "cell_type": "code",
   "execution_count": 3,
   "id": "3cb2e177",
   "metadata": {},
   "outputs": [
    {
     "name": "stdout",
     "output_type": "stream",
     "text": [
      "<class 'pandas.core.frame.DataFrame'>\n",
      "RangeIndex: 8800 entries, 0 to 8799\n",
      "Data columns (total 25 columns):\n",
      " #   Column               Non-Null Count  Dtype  \n",
      "---  ------               --------------  -----  \n",
      " 0   dt                   8800 non-null   int64  \n",
      " 1   dt_iso               8800 non-null   object \n",
      " 2   timezone             8800 non-null   int64  \n",
      " 3   city_name            8800 non-null   object \n",
      " 4   lat                  8800 non-null   float64\n",
      " 5   lon                  8800 non-null   float64\n",
      " 6   temp                 8800 non-null   float64\n",
      " 7   feels_like           8800 non-null   float64\n",
      " 8   temp_min             8800 non-null   float64\n",
      " 9   temp_max             8800 non-null   float64\n",
      " 10  pressure             8800 non-null   int64  \n",
      " 11  sea_level            0 non-null      float64\n",
      " 12  grnd_level           0 non-null      float64\n",
      " 13  humidity             8800 non-null   int64  \n",
      " 14  wind_speed           8800 non-null   float64\n",
      " 15  wind_deg             8800 non-null   int64  \n",
      " 16  rain_1h              66 non-null     float64\n",
      " 17  rain_3h              0 non-null      float64\n",
      " 18  snow_1h              0 non-null      float64\n",
      " 19  snow_3h              0 non-null      float64\n",
      " 20  clouds_all           8800 non-null   int64  \n",
      " 21  weather_id           8800 non-null   int64  \n",
      " 22  weather_main         8800 non-null   object \n",
      " 23  weather_description  8800 non-null   object \n",
      " 24  weather_icon         8800 non-null   object \n",
      "dtypes: float64(13), int64(7), object(5)\n",
      "memory usage: 1.7+ MB\n"
     ]
    }
   ],
   "source": [
    "#Shows a dataframe overview.\n",
    "df.info()"
   ]
  },
  {
   "cell_type": "code",
   "execution_count": 4,
   "id": "5f3e82fb",
   "metadata": {},
   "outputs": [],
   "source": [
    "# Dropped due to null values or irrevelant to data required.\n",
    "df=df.drop(['dt_iso','sea_level','grnd_level','timezone','rain_1h','rain_3h','snow_1h','snow_3h'], axis = 1)"
   ]
  },
  {
   "cell_type": "markdown",
   "id": "7f90cda5",
   "metadata": {},
   "source": [
    "dt_iso dropped as repeated information.\n",
    "'sea_level','grnd_level','rain_1h','rain_3h','snow_1h','snow_3h' dropped due to lack of information.\n",
    "timezone dropped as only one timezone in the dataframe."
   ]
  },
  {
   "cell_type": "code",
   "execution_count": 5,
   "id": "94fe17f3",
   "metadata": {},
   "outputs": [
    {
     "data": {
      "text/plain": [
       "array([520, 802, 803, 801, 500, 521, 501, 311, 800, 300, 310, 741, 701,\n",
       "       804, 612, 620, 600, 615, 621, 601, 301, 711, 502], dtype=int64)"
      ]
     },
     "execution_count": 5,
     "metadata": {},
     "output_type": "execute_result"
    }
   ],
   "source": [
    "#Each number corresponds to a different Weather description.\n",
    "df.weather_id.unique()"
   ]
  },
  {
   "cell_type": "code",
   "execution_count": 6,
   "id": "ea1ed722",
   "metadata": {},
   "outputs": [
    {
     "data": {
      "text/plain": [
       "array(['Rain', 'Clouds', 'Drizzle', 'Clear', 'Fog', 'Mist', 'Snow',\n",
       "       'Smoke'], dtype=object)"
      ]
     },
     "execution_count": 6,
     "metadata": {},
     "output_type": "execute_result"
    }
   ],
   "source": [
    "df.weather_main.unique()"
   ]
  },
  {
   "cell_type": "code",
   "execution_count": 7,
   "id": "758d33b2",
   "metadata": {},
   "outputs": [
    {
     "data": {
      "text/html": [
       "<div>\n",
       "<style scoped>\n",
       "    .dataframe tbody tr th:only-of-type {\n",
       "        vertical-align: middle;\n",
       "    }\n",
       "\n",
       "    .dataframe tbody tr th {\n",
       "        vertical-align: top;\n",
       "    }\n",
       "\n",
       "    .dataframe thead th {\n",
       "        text-align: right;\n",
       "    }\n",
       "</style>\n",
       "<table border=\"1\" class=\"dataframe\">\n",
       "  <thead>\n",
       "    <tr style=\"text-align: right;\">\n",
       "      <th></th>\n",
       "      <th>dt</th>\n",
       "      <th>city_name</th>\n",
       "      <th>lat</th>\n",
       "      <th>lon</th>\n",
       "      <th>temp</th>\n",
       "      <th>feels_like</th>\n",
       "      <th>temp_min</th>\n",
       "      <th>temp_max</th>\n",
       "      <th>pressure</th>\n",
       "      <th>humidity</th>\n",
       "      <th>wind_speed</th>\n",
       "      <th>wind_deg</th>\n",
       "      <th>clouds_all</th>\n",
       "      <th>weather_id</th>\n",
       "      <th>weather_main</th>\n",
       "      <th>weather_description</th>\n",
       "      <th>weather_icon</th>\n",
       "    </tr>\n",
       "  </thead>\n",
       "  <tbody>\n",
       "    <tr>\n",
       "      <th>8461</th>\n",
       "      <td>1545116400</td>\n",
       "      <td>Dublin</td>\n",
       "      <td>53.349805</td>\n",
       "      <td>-6.26031</td>\n",
       "      <td>10.65</td>\n",
       "      <td>3.56</td>\n",
       "      <td>10.0</td>\n",
       "      <td>11.67</td>\n",
       "      <td>996</td>\n",
       "      <td>81</td>\n",
       "      <td>9.3</td>\n",
       "      <td>200</td>\n",
       "      <td>75</td>\n",
       "      <td>502</td>\n",
       "      <td>Rain</td>\n",
       "      <td>heavy intensity rain</td>\n",
       "      <td>10n</td>\n",
       "    </tr>\n",
       "  </tbody>\n",
       "</table>\n",
       "</div>"
      ],
      "text/plain": [
       "              dt city_name        lat      lon   temp  feels_like  temp_min  \\\n",
       "8461  1545116400    Dublin  53.349805 -6.26031  10.65        3.56      10.0   \n",
       "\n",
       "      temp_max  pressure  humidity  wind_speed  wind_deg  clouds_all  \\\n",
       "8461     11.67       996        81         9.3       200          75   \n",
       "\n",
       "      weather_id weather_main   weather_description weather_icon  \n",
       "8461         502         Rain  heavy intensity rain          10n  "
      ]
     },
     "execution_count": 7,
     "metadata": {},
     "output_type": "execute_result"
    }
   ],
   "source": [
    "#Used to see what weather_id matches to what weather description\n",
    "df.loc[(df['weather_id'] == 502 )]\n",
    "\n"
   ]
  },
  {
   "cell_type": "markdown",
   "id": "823c8747",
   "metadata": {},
   "source": [
    "reference table for weather id's and weather descriptions.\n",
    "\n",
    "|Weather Id|Weather main|Weather description|\n",
    "|---|---|---|\n",
    "300|\tDrizzle\tlight| intensity drizzle|\n",
    "301|\tDrizzle|\tdrizzle\n",
    "310|\tDrizzle|\tlight intensity drizzle rain\n",
    "311|\tDrizzle|\train and drizzle\n",
    "500|\tRain|\tlight rain\n",
    "501|\tRain|\tmoderate rain\n",
    "502|\tRain|\theavy intensity rain\t\n",
    "520|\tRain|\tlight intensity shower rain\n",
    "521|\tRain|\tproximity shower rain\n",
    "600|\tSnow|\tlight snow\t\n",
    "601|    Snow|\tsnow\n",
    "612|\tSnow|\tlight shower sleet\t\n",
    "615|\tSnow|\tlight rain and snow\n",
    "620|\tSnow|\tlight shower snow\t\n",
    "621|\tSnow|\tshower snow\n",
    "701|\tMist|\tmist\n",
    "711|\tSmoke|\tsmoke\n",
    "741|\tFog|\tfog\n",
    "800|\tClear|\tsky is clear\n",
    "801|\tClouds|\tfew clouds\n",
    "802|\tClouds|\tscattered clouds\n",
    "803|\tClouds|\tbroken clouds\t\n",
    "804|\tClouds|\tovercast clouds\n",
    "\n"
   ]
  },
  {
   "cell_type": "code",
   "execution_count": 8,
   "id": "deb339e5",
   "metadata": {},
   "outputs": [
    {
     "data": {
      "text/html": [
       "<div>\n",
       "<style scoped>\n",
       "    .dataframe tbody tr th:only-of-type {\n",
       "        vertical-align: middle;\n",
       "    }\n",
       "\n",
       "    .dataframe tbody tr th {\n",
       "        vertical-align: top;\n",
       "    }\n",
       "\n",
       "    .dataframe thead th {\n",
       "        text-align: right;\n",
       "    }\n",
       "</style>\n",
       "<table border=\"1\" class=\"dataframe\">\n",
       "  <thead>\n",
       "    <tr style=\"text-align: right;\">\n",
       "      <th></th>\n",
       "      <th>dt</th>\n",
       "      <th>city_name</th>\n",
       "      <th>lat</th>\n",
       "      <th>lon</th>\n",
       "      <th>temp</th>\n",
       "      <th>feels_like</th>\n",
       "      <th>temp_min</th>\n",
       "      <th>temp_max</th>\n",
       "      <th>pressure</th>\n",
       "      <th>humidity</th>\n",
       "      <th>wind_speed</th>\n",
       "      <th>wind_deg</th>\n",
       "      <th>clouds_all</th>\n",
       "      <th>weather_id</th>\n",
       "      <th>weather_main</th>\n",
       "      <th>weather_description</th>\n",
       "      <th>weather_icon</th>\n",
       "    </tr>\n",
       "  </thead>\n",
       "  <tbody>\n",
       "    <tr>\n",
       "      <th>0</th>\n",
       "      <td>1514764800</td>\n",
       "      <td>Dublin</td>\n",
       "      <td>53.349805</td>\n",
       "      <td>-6.26031</td>\n",
       "      <td>4.15</td>\n",
       "      <td>-6.49</td>\n",
       "      <td>3.84</td>\n",
       "      <td>5.79</td>\n",
       "      <td>990</td>\n",
       "      <td>87</td>\n",
       "      <td>12.86</td>\n",
       "      <td>240</td>\n",
       "      <td>40</td>\n",
       "      <td>520</td>\n",
       "      <td>Rain</td>\n",
       "      <td>light intensity shower rain</td>\n",
       "      <td>09n</td>\n",
       "    </tr>\n",
       "    <tr>\n",
       "      <th>1</th>\n",
       "      <td>1514768400</td>\n",
       "      <td>Dublin</td>\n",
       "      <td>53.349805</td>\n",
       "      <td>-6.26031</td>\n",
       "      <td>4.14</td>\n",
       "      <td>-5.79</td>\n",
       "      <td>3.65</td>\n",
       "      <td>5.86</td>\n",
       "      <td>991</td>\n",
       "      <td>87</td>\n",
       "      <td>11.83</td>\n",
       "      <td>240</td>\n",
       "      <td>75</td>\n",
       "      <td>520</td>\n",
       "      <td>Rain</td>\n",
       "      <td>light intensity shower rain</td>\n",
       "      <td>09n</td>\n",
       "    </tr>\n",
       "    <tr>\n",
       "      <th>2</th>\n",
       "      <td>1514772000</td>\n",
       "      <td>Dublin</td>\n",
       "      <td>53.349805</td>\n",
       "      <td>-6.26031</td>\n",
       "      <td>4.61</td>\n",
       "      <td>-5.77</td>\n",
       "      <td>3.85</td>\n",
       "      <td>5.99</td>\n",
       "      <td>990</td>\n",
       "      <td>81</td>\n",
       "      <td>12.35</td>\n",
       "      <td>240</td>\n",
       "      <td>40</td>\n",
       "      <td>802</td>\n",
       "      <td>Clouds</td>\n",
       "      <td>scattered clouds</td>\n",
       "      <td>03n</td>\n",
       "    </tr>\n",
       "    <tr>\n",
       "      <th>3</th>\n",
       "      <td>1514775600</td>\n",
       "      <td>Dublin</td>\n",
       "      <td>53.349805</td>\n",
       "      <td>-6.26031</td>\n",
       "      <td>4.64</td>\n",
       "      <td>-5.73</td>\n",
       "      <td>4.00</td>\n",
       "      <td>6.14</td>\n",
       "      <td>990</td>\n",
       "      <td>81</td>\n",
       "      <td>12.35</td>\n",
       "      <td>240</td>\n",
       "      <td>40</td>\n",
       "      <td>802</td>\n",
       "      <td>Clouds</td>\n",
       "      <td>scattered clouds</td>\n",
       "      <td>03n</td>\n",
       "    </tr>\n",
       "    <tr>\n",
       "      <th>4</th>\n",
       "      <td>1514779200</td>\n",
       "      <td>Dublin</td>\n",
       "      <td>53.349805</td>\n",
       "      <td>-6.26031</td>\n",
       "      <td>5.04</td>\n",
       "      <td>-4.91</td>\n",
       "      <td>4.11</td>\n",
       "      <td>6.22</td>\n",
       "      <td>990</td>\n",
       "      <td>81</td>\n",
       "      <td>11.83</td>\n",
       "      <td>240</td>\n",
       "      <td>40</td>\n",
       "      <td>802</td>\n",
       "      <td>Clouds</td>\n",
       "      <td>scattered clouds</td>\n",
       "      <td>03n</td>\n",
       "    </tr>\n",
       "  </tbody>\n",
       "</table>\n",
       "</div>"
      ],
      "text/plain": [
       "           dt city_name        lat      lon  temp  feels_like  temp_min  \\\n",
       "0  1514764800    Dublin  53.349805 -6.26031  4.15       -6.49      3.84   \n",
       "1  1514768400    Dublin  53.349805 -6.26031  4.14       -5.79      3.65   \n",
       "2  1514772000    Dublin  53.349805 -6.26031  4.61       -5.77      3.85   \n",
       "3  1514775600    Dublin  53.349805 -6.26031  4.64       -5.73      4.00   \n",
       "4  1514779200    Dublin  53.349805 -6.26031  5.04       -4.91      4.11   \n",
       "\n",
       "   temp_max  pressure  humidity  wind_speed  wind_deg  clouds_all  weather_id  \\\n",
       "0      5.79       990        87       12.86       240          40         520   \n",
       "1      5.86       991        87       11.83       240          75         520   \n",
       "2      5.99       990        81       12.35       240          40         802   \n",
       "3      6.14       990        81       12.35       240          40         802   \n",
       "4      6.22       990        81       11.83       240          40         802   \n",
       "\n",
       "  weather_main          weather_description weather_icon  \n",
       "0         Rain  light intensity shower rain          09n  \n",
       "1         Rain  light intensity shower rain          09n  \n",
       "2       Clouds             scattered clouds          03n  \n",
       "3       Clouds             scattered clouds          03n  \n",
       "4       Clouds             scattered clouds          03n  "
      ]
     },
     "execution_count": 8,
     "metadata": {},
     "output_type": "execute_result"
    }
   ],
   "source": [
    "df.head()"
   ]
  },
  {
   "cell_type": "code",
   "execution_count": 9,
   "id": "80e8c367",
   "metadata": {},
   "outputs": [],
   "source": [
    "#Converted dt column to date time\n",
    "df['dt']=pd.to_datetime(df['dt'],unit='s')\n"
   ]
  },
  {
   "cell_type": "code",
   "execution_count": 10,
   "id": "559f6d70",
   "metadata": {},
   "outputs": [],
   "source": [
    "#split datetime into date and time columns \n",
    "df['date'] = pd.to_datetime(df['dt']).dt.date\n",
    "df['time'] = pd.to_datetime(df['dt']).dt.time"
   ]
  },
  {
   "cell_type": "code",
   "execution_count": 11,
   "id": "48fd9b8e",
   "metadata": {},
   "outputs": [],
   "source": [
    "#Dropped as superfluous to our needs.\n",
    "df=df.drop(['lat','lon','city_name', 'temp_min','temp_max','pressure','humidity','wind_deg','weather_icon'], axis = 1)"
   ]
  },
  {
   "cell_type": "code",
   "execution_count": 12,
   "id": "fd8d1224",
   "metadata": {},
   "outputs": [
    {
     "data": {
      "text/plain": [
       "dt                     datetime64[ns]\n",
       "temp                          float64\n",
       "feels_like                    float64\n",
       "wind_speed                    float64\n",
       "clouds_all                      int64\n",
       "weather_id                      int64\n",
       "weather_main                   object\n",
       "weather_description            object\n",
       "date                           object\n",
       "time                           object\n",
       "dtype: object"
      ]
     },
     "execution_count": 12,
     "metadata": {},
     "output_type": "execute_result"
    }
   ],
   "source": [
    "#Remaining dataframe columns and their types\n",
    "df.dtypes"
   ]
  },
  {
   "cell_type": "code",
   "execution_count": 13,
   "id": "a6a9e849",
   "metadata": {},
   "outputs": [
    {
     "data": {
      "text/html": [
       "<div>\n",
       "<style scoped>\n",
       "    .dataframe tbody tr th:only-of-type {\n",
       "        vertical-align: middle;\n",
       "    }\n",
       "\n",
       "    .dataframe tbody tr th {\n",
       "        vertical-align: top;\n",
       "    }\n",
       "\n",
       "    .dataframe thead th {\n",
       "        text-align: right;\n",
       "    }\n",
       "</style>\n",
       "<table border=\"1\" class=\"dataframe\">\n",
       "  <thead>\n",
       "    <tr style=\"text-align: right;\">\n",
       "      <th></th>\n",
       "      <th>dt</th>\n",
       "      <th>temp</th>\n",
       "      <th>feels_like</th>\n",
       "      <th>wind_speed</th>\n",
       "      <th>clouds_all</th>\n",
       "      <th>weather_id</th>\n",
       "      <th>weather_main</th>\n",
       "      <th>weather_description</th>\n",
       "      <th>date</th>\n",
       "      <th>time</th>\n",
       "    </tr>\n",
       "  </thead>\n",
       "  <tbody>\n",
       "    <tr>\n",
       "      <th>0</th>\n",
       "      <td>2018-01-01 00:00:00</td>\n",
       "      <td>4.15</td>\n",
       "      <td>-6.49</td>\n",
       "      <td>12.86</td>\n",
       "      <td>40</td>\n",
       "      <td>520</td>\n",
       "      <td>Rain</td>\n",
       "      <td>light intensity shower rain</td>\n",
       "      <td>2018-01-01</td>\n",
       "      <td>00:00:00</td>\n",
       "    </tr>\n",
       "    <tr>\n",
       "      <th>1</th>\n",
       "      <td>2018-01-01 01:00:00</td>\n",
       "      <td>4.14</td>\n",
       "      <td>-5.79</td>\n",
       "      <td>11.83</td>\n",
       "      <td>75</td>\n",
       "      <td>520</td>\n",
       "      <td>Rain</td>\n",
       "      <td>light intensity shower rain</td>\n",
       "      <td>2018-01-01</td>\n",
       "      <td>01:00:00</td>\n",
       "    </tr>\n",
       "    <tr>\n",
       "      <th>2</th>\n",
       "      <td>2018-01-01 02:00:00</td>\n",
       "      <td>4.61</td>\n",
       "      <td>-5.77</td>\n",
       "      <td>12.35</td>\n",
       "      <td>40</td>\n",
       "      <td>802</td>\n",
       "      <td>Clouds</td>\n",
       "      <td>scattered clouds</td>\n",
       "      <td>2018-01-01</td>\n",
       "      <td>02:00:00</td>\n",
       "    </tr>\n",
       "    <tr>\n",
       "      <th>3</th>\n",
       "      <td>2018-01-01 03:00:00</td>\n",
       "      <td>4.64</td>\n",
       "      <td>-5.73</td>\n",
       "      <td>12.35</td>\n",
       "      <td>40</td>\n",
       "      <td>802</td>\n",
       "      <td>Clouds</td>\n",
       "      <td>scattered clouds</td>\n",
       "      <td>2018-01-01</td>\n",
       "      <td>03:00:00</td>\n",
       "    </tr>\n",
       "    <tr>\n",
       "      <th>4</th>\n",
       "      <td>2018-01-01 04:00:00</td>\n",
       "      <td>5.04</td>\n",
       "      <td>-4.91</td>\n",
       "      <td>11.83</td>\n",
       "      <td>40</td>\n",
       "      <td>802</td>\n",
       "      <td>Clouds</td>\n",
       "      <td>scattered clouds</td>\n",
       "      <td>2018-01-01</td>\n",
       "      <td>04:00:00</td>\n",
       "    </tr>\n",
       "  </tbody>\n",
       "</table>\n",
       "</div>"
      ],
      "text/plain": [
       "                   dt  temp  feels_like  wind_speed  clouds_all  weather_id  \\\n",
       "0 2018-01-01 00:00:00  4.15       -6.49       12.86          40         520   \n",
       "1 2018-01-01 01:00:00  4.14       -5.79       11.83          75         520   \n",
       "2 2018-01-01 02:00:00  4.61       -5.77       12.35          40         802   \n",
       "3 2018-01-01 03:00:00  4.64       -5.73       12.35          40         802   \n",
       "4 2018-01-01 04:00:00  5.04       -4.91       11.83          40         802   \n",
       "\n",
       "  weather_main          weather_description        date      time  \n",
       "0         Rain  light intensity shower rain  2018-01-01  00:00:00  \n",
       "1         Rain  light intensity shower rain  2018-01-01  01:00:00  \n",
       "2       Clouds             scattered clouds  2018-01-01  02:00:00  \n",
       "3       Clouds             scattered clouds  2018-01-01  03:00:00  \n",
       "4       Clouds             scattered clouds  2018-01-01  04:00:00  "
      ]
     },
     "execution_count": 13,
     "metadata": {},
     "output_type": "execute_result"
    }
   ],
   "source": [
    "#dataframe view.\n",
    "df.head()"
   ]
  },
  {
   "cell_type": "markdown",
   "id": "8ed519a2",
   "metadata": {},
   "source": [
    "Dropped columns.\n",
    "the latitude=53.349805\t\n",
    "the longitude= -6.26031"
   ]
  },
  {
   "cell_type": "code",
   "execution_count": 14,
   "id": "23a3f72e",
   "metadata": {},
   "outputs": [],
   "source": [
    "#df.to_csv(\"cleaned_2018_historic_weather_3.csv\")"
   ]
  },
  {
   "cell_type": "code",
   "execution_count": 15,
   "id": "fc6dbd92",
   "metadata": {},
   "outputs": [],
   "source": [
    "sun_df=pd.read_csv('2018_sunrise_sunset.csv')"
   ]
  },
  {
   "cell_type": "code",
   "execution_count": 16,
   "id": "14a481a0",
   "metadata": {},
   "outputs": [
    {
     "data": {
      "text/html": [
       "<div>\n",
       "<style scoped>\n",
       "    .dataframe tbody tr th:only-of-type {\n",
       "        vertical-align: middle;\n",
       "    }\n",
       "\n",
       "    .dataframe tbody tr th {\n",
       "        vertical-align: top;\n",
       "    }\n",
       "\n",
       "    .dataframe thead th {\n",
       "        text-align: right;\n",
       "    }\n",
       "</style>\n",
       "<table border=\"1\" class=\"dataframe\">\n",
       "  <thead>\n",
       "    <tr style=\"text-align: right;\">\n",
       "      <th></th>\n",
       "      <th>Date</th>\n",
       "      <th>Sunrise</th>\n",
       "      <th>Sunset</th>\n",
       "    </tr>\n",
       "  </thead>\n",
       "  <tbody>\n",
       "    <tr>\n",
       "      <th>0</th>\n",
       "      <td>01/01/2018</td>\n",
       "      <td>09:05</td>\n",
       "      <td>16:59</td>\n",
       "    </tr>\n",
       "    <tr>\n",
       "      <th>1</th>\n",
       "      <td>02/01/2018</td>\n",
       "      <td>09:05</td>\n",
       "      <td>17:00</td>\n",
       "    </tr>\n",
       "    <tr>\n",
       "      <th>2</th>\n",
       "      <td>03/01/2018</td>\n",
       "      <td>09:05</td>\n",
       "      <td>17:01</td>\n",
       "    </tr>\n",
       "    <tr>\n",
       "      <th>3</th>\n",
       "      <td>04/01/2018</td>\n",
       "      <td>09:04</td>\n",
       "      <td>17:02</td>\n",
       "    </tr>\n",
       "    <tr>\n",
       "      <th>4</th>\n",
       "      <td>05/01/2018</td>\n",
       "      <td>09:04</td>\n",
       "      <td>17:03</td>\n",
       "    </tr>\n",
       "  </tbody>\n",
       "</table>\n",
       "</div>"
      ],
      "text/plain": [
       "         Date Sunrise Sunset\n",
       "0  01/01/2018   09:05  16:59\n",
       "1  02/01/2018   09:05  17:00\n",
       "2  03/01/2018   09:05  17:01\n",
       "3  04/01/2018   09:04  17:02\n",
       "4  05/01/2018   09:04  17:03"
      ]
     },
     "execution_count": 16,
     "metadata": {},
     "output_type": "execute_result"
    }
   ],
   "source": [
    "sun_df.head()"
   ]
  },
  {
   "cell_type": "code",
   "execution_count": null,
   "id": "39c53d17",
   "metadata": {},
   "outputs": [],
   "source": []
  }
 ],
 "metadata": {
  "kernelspec": {
   "display_name": "Python 3",
   "language": "python",
   "name": "python3"
  },
  "language_info": {
   "codemirror_mode": {
    "name": "ipython",
    "version": 3
   },
   "file_extension": ".py",
   "mimetype": "text/x-python",
   "name": "python",
   "nbconvert_exporter": "python",
   "pygments_lexer": "ipython3",
   "version": "3.6.13"
  }
 },
 "nbformat": 4,
 "nbformat_minor": 5
}
