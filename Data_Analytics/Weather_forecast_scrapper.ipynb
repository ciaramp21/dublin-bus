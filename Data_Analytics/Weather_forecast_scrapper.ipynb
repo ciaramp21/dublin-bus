{
 "cells": [
  {
   "cell_type": "code",
   "execution_count": 1,
   "id": "bca318d8",
   "metadata": {},
   "outputs": [],
   "source": [
    "from sqlalchemy import create_engine\n",
    "import requests\n",
    "import time\n",
    "import pandas as pd\n",
    "import datetime\n",
    "import traceback"
   ]
  },
  {
   "cell_type": "code",
   "execution_count": 2,
   "id": "174ea07e",
   "metadata": {},
   "outputs": [],
   "source": [
    "#reading in the file with the Apikey and login information. \n",
    "f = open('Open_weather_API_login.txt')\n",
    "line = f.readlines() \n",
    "converted_list=[]\n",
    "\n",
    "for element in line:\n",
    "    converted_list.append(element.strip())\n",
    "\n",
    "\n",
    "STATIONS_URI=converted_list[0]\n",
    "APIKEY=converted_list[1]\n",
    "host=converted_list[2]\n",
    "db_name=converted_list[3]\n",
    "user_name=converted_list[4]\n",
    "password=converted_list[5]"
   ]
  },
  {
   "cell_type": "code",
   "execution_count": 3,
   "id": "3932aa26",
   "metadata": {},
   "outputs": [],
   "source": [
    "#API parameters\n",
    "lat = \"53.3498\"\n",
    "lon = \"-6.2603\"\n",
    "exclude=\"current,minutely\"\n",
    "\n",
    "#API URL\n",
    "url=\"https://api.openweathermap.org/data/2.5/onecall?lat=%s&lon=%s&exclude=%s&appid=%s&units=metric\" % (lat,lon,exclude,APIKEY)\n",
    "\n",
    "#DataBase engine\n",
    "engine = create_engine('mysql://'+ user_name+':'+ password+'@'+ host + '/'+ db_name)"
   ]
  },
  {
   "cell_type": "code",
   "execution_count": 4,
   "id": "26a6f959",
   "metadata": {},
   "outputs": [],
   "source": [
    "def download_data(url):\n",
    "    \"\"\"Gets weather forecast for Dublin for 1 hour intervals over next 48 hours.\n",
    "    Takes only weather information from return object and return information as Python array.\"\"\"\n",
    "    response = requests.get(url)\n",
    "    data = response.json()\n",
    "\n",
    "    if not response.ok:\n",
    "        print(\"Error Code:\", response.status_code)\n",
    "        print(\"Reason:\", response.reason)\n",
    "\n",
    "    return data\n",
    "\n",
    "\n",
    "\n",
    "def convert_data(data):\n",
    "    \"\"\"Takes only necessary data points from weather information, flattens internal dictionary objects, labels columns.\n",
    "    Returns cleaned data as dataframe.\"\"\"\n",
    "    records = []\n",
    "    for datum in data['hourly']:\n",
    "        records.append({'date': datetime.datetime.fromtimestamp(datum['dt']),\n",
    "        'temp': datum['temp'],\n",
    "        'feels_like': datum['feels_like'],\n",
    "        'wind_speed': datum['wind_speed'],\n",
    "        'clouds_all': datum['clouds'],\n",
    "        'weather_id' : datum['weather'][0]['id'],\n",
    "        'description': datum['weather'][0]['description'],\n",
    "        'main_description': datum['weather'][0]['main'],\n",
    "        'icon': datum['weather'][0]['icon'],\n",
    "        'sunrise': datetime.datetime.fromtimestamp(data['daily'][0]['sunrise']),\n",
    "        'sunset': datetime.datetime.fromtimestamp(data['daily'][0]['sunset'])})\n",
    "        #'sender_name':(data['alerts']['sender_name']),\n",
    "         #   'event':(data['alerts'][0]['event']),\n",
    "          #  'start': datetime.datetime.fromtimestamp(data['alerts'][0]['start']),\n",
    "           # 'end': datetime.datetime.fromtimestamp(data['alerts'][0]['end']),  \n",
    "            #'description': (data['alerts'][0]['description'])})\n",
    "        \n",
    "    return pd.DataFrame.from_records(records)\n",
    "\n",
    "\n",
    "def main():\n",
    "    #Downloads and converts data before sending to remote database.Repeats every three hours and overwrites table each time, so forecast data is always up to date.\"\"\"\n",
    "    try:\n",
    "        data = download_data(url)\n",
    "        df = convert_data(data)\n",
    "        df.to_sql('weather_4_day_hourly_forecast', engine, if_exists='replace', index=False)\n",
    "    except:\n",
    "        print(traceback.format_exc())\n",
    "\n",
    "\n",
    "if __name__ == \"__main__\":\n",
    "    main()"
   ]
  },
  {
   "cell_type": "code",
   "execution_count": null,
   "id": "5fe18b84",
   "metadata": {},
   "outputs": [],
   "source": []
  }
 ],
 "metadata": {
  "kernelspec": {
   "display_name": "Python 3",
   "language": "python",
   "name": "python3"
  },
  "language_info": {
   "codemirror_mode": {
    "name": "ipython",
    "version": 3
   },
   "file_extension": ".py",
   "mimetype": "text/x-python",
   "name": "python",
   "nbconvert_exporter": "python",
   "pygments_lexer": "ipython3",
   "version": "3.6.13"
  }
 },
 "nbformat": 4,
 "nbformat_minor": 5
}
