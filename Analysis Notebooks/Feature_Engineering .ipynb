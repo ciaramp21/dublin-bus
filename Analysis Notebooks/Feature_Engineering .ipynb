{
 "cells": [
  {
   "cell_type": "markdown",
   "metadata": {},
   "source": [
    "## Feature Engineering\n",
    "Generate distance between two stops which will be used as part of the modeling."
   ]
  },
  {
   "cell_type": "code",
   "execution_count": 1,
   "metadata": {},
   "outputs": [],
   "source": [
    "# Imports and general data\n",
    "import pandas as pd\n",
    "import numpy as np\n",
    "import matplotlib.pyplot as plt\n",
    "import datetime\n",
    "import seaborn as sns\n",
    "import re\n",
    "\n",
    "from sklearn import preprocessing\n",
    "from scipy.stats import chi2_contingency\n",
    "from matplotlib.backends.backend_pdf import PdfPages\n",
    "\n",
    "\n",
    "# hide ipykernel warnings \n",
    "import warnings\n",
    "warnings.filterwarnings('ignore')\n",
    "\n",
    "#Plotting inline\n",
    "%matplotlib inline"
   ]
  },
  {
   "cell_type": "code",
   "execution_count": 2,
   "metadata": {},
   "outputs": [],
   "source": [
    "# Import necessary data\n",
    "leavetimes_df = pd.read_csv(r'C:\\Users\\turlo\\OneDrive\\Documents\\MSC_Computer_Science\\Summer_Project\\Data\\trim_leavetimes.csv', sep=';')\n",
    "stops_df = pd.read_csv(r'C:\\Users\\turlo\\OneDrive\\Documents\\MSC_Computer_Science\\Summer_Project\\Data\\DublinBus_2018\\stops_trim.csv')\n",
    "trips_df = pd.read_csv(r'C:\\Users\\turlo\\OneDrive\\Documents\\MSC_Computer_Science\\Summer_Project\\Data\\trim_trips.csv', sep=';')\n",
    "distance_df = pd.read_csv(r'C:\\Users\\turlo\\OneDrive\\Documents\\MSC_Computer_Science\\Summer_Project\\Data\\distance_all.csv')\n",
    "weather_df = pd.read_csv(r'C:\\Users\\turlo\\OneDrive\\Documents\\MSC_Computer_Science\\Summer_Project\\Data\\DublinBus_2018\\Weather_2018.csv')\n",
    "historic_df = pd.read_csv(r'C:\\Users\\turlo\\OneDrive\\Documents\\MSC_Computer_Science\\Summer_Project\\Data\\stop_times_hist.txt')"
   ]
  },
  {
   "cell_type": "markdown",
   "metadata": {},
   "source": [
    "### Standardise Column Names\n",
    "Data used contains two different names for the same data, this just cleans it to make it more standard and clear."
   ]
  },
  {
   "cell_type": "code",
   "execution_count": 3,
   "metadata": {},
   "outputs": [],
   "source": [
    "historic_df[\"DIRECTION\"] = historic_df[\"trip_id\"].str.strip().str[-1]"
   ]
  },
  {
   "cell_type": "code",
   "execution_count": 4,
   "metadata": {},
   "outputs": [],
   "source": [
    "historic_df[\"ROUTE\"] =  historic_df[\"trip_id\"].apply(lambda x: re.findall(r'-([^-]*)-', str(x)))"
   ]
  },
  {
   "cell_type": "code",
   "execution_count": 5,
   "metadata": {},
   "outputs": [],
   "source": [
    "historic_df = historic_df.explode('ROUTE')"
   ]
  },
  {
   "cell_type": "code",
   "execution_count": 6,
   "metadata": {},
   "outputs": [],
   "source": [
    "historic_df = historic_df[[\"stop_id\",\"stop_sequence\",\"shape_dist_traveled\",\"ROUTE\",\"DIRECTION\"]]\n",
    "historic_df[\"PROGRNUMBER\"] = historic_df[\"stop_sequence\"]\n",
    "historic_df = historic_df.rename(columns = {\"stop_id\":\"STOPID\", \"stop_sequence\":\"STOP_SEQUENCE\", \"shape_dist_traveled\":\"DISTANCE_TRAVELLED\"})"
   ]
  },
  {
   "cell_type": "code",
   "execution_count": 7,
   "metadata": {},
   "outputs": [],
   "source": [
    "frames = [distance_df, historic_df]\n",
    "distance_df = pd.concat(frames)"
   ]
  },
  {
   "cell_type": "markdown",
   "metadata": {},
   "source": [
    "### Clean Data\n",
    "Drop unnecessary data and change format/data types to match the main analysis script."
   ]
  },
  {
   "cell_type": "code",
   "execution_count": 8,
   "metadata": {},
   "outputs": [],
   "source": [
    "distance_df = distance_df.drop_duplicates()"
   ]
  },
  {
   "cell_type": "code",
   "execution_count": null,
   "metadata": {},
   "outputs": [],
   "source": [
    "stops_df['STOPPOINTID'] = stops_df['STOPPOINTID'].astype('float')"
   ]
  },
  {
   "cell_type": "code",
   "execution_count": 9,
   "metadata": {},
   "outputs": [],
   "source": [
    "days = ['19-JAN-18 00:00:00', '20-JAN-18 00:00:00', '21-JAN-18 00:00:00']\n",
    "leavetimes_df = leavetimes_df[leavetimes_df.DAYOFSERVICE.isin(days)]"
   ]
  },
  {
   "cell_type": "code",
   "execution_count": 10,
   "metadata": {},
   "outputs": [],
   "source": [
    "# Adjust times from seconds to hh:mm:ss and get the expected and actual trip time\n",
    "trips_df['PLANNEDTIME'] = (trips_df['PLANNEDTIME_ARR'] - trips_df['PLANNEDTIME_DEP'])\n",
    "trips_df['ACTUALTIME'] = (trips_df['ACTUALTIME_ARR'] - trips_df['ACTUALTIME_DEP'])\n",
    "trips_df['ACTUALTIME_SECONDS'] = trips_df['ACTUALTIME']\n",
    "\n",
    "trips_df['DATE'] = pd.to_datetime(trips_df['DAYOFSERVICE']).dt.strftime('%Y-%m-%d')\n",
    "trips_df['HOUR'] = pd.to_datetime(trips_df['PLANNEDTIME_DEP'], unit='s').dt.strftime(\"%H:00:00\")\n",
    "trips_df['PLANNEDTIME_ARR'] = pd.to_datetime(trips_df['PLANNEDTIME_ARR'], unit='s').dt.strftime(\"%H:%M:%S\")\n",
    "trips_df['PLANNEDTIME_DEP'] = pd.to_datetime(trips_df['PLANNEDTIME_DEP'], unit='s').dt.strftime(\"%H:%M:%S\")\n",
    "trips_df['ACTUALTIME_ARR'] = pd.to_datetime(trips_df['ACTUALTIME_ARR'], unit='s').dt.strftime(\"%H:%M:%S\")\n",
    "trips_df['ACTUALTIME_DEP'] = pd.to_datetime(trips_df['ACTUALTIME_DEP'], unit='s').dt.strftime(\"%H:%M:%S\")\n",
    "\n",
    "\n",
    "leavetimes_df['PLANNEDTIME_ARR'] = pd.to_datetime(leavetimes_df['PLANNEDTIME_ARR'], unit='s').dt.strftime(\"%H:%M:%S\")\n",
    "leavetimes_df['PLANNEDTIME_DEP'] = pd.to_datetime(leavetimes_df['PLANNEDTIME_DEP'], unit='s').dt.strftime(\"%H:%M:%S\")\n",
    "leavetimes_df['ACTUALTIME_ARR'] = pd.to_datetime(leavetimes_df['ACTUALTIME_ARR'], unit='s').dt.strftime(\"%H:%M:%S\")\n",
    "leavetimes_df['ACTUALTIME_DEP'] = pd.to_datetime(leavetimes_df['ACTUALTIME_DEP'], unit='s').dt.strftime(\"%H:%M:%S\")\n",
    "\n",
    "trips_df['PLANNEDTIME'] = pd.to_datetime(trips_df['PLANNEDTIME'], unit='s').dt.strftime(\"%H:%M:%S\")\n",
    "trips_df['ACTUALTIME'] = pd.to_datetime(trips_df['ACTUALTIME'], unit='s').dt.strftime(\"%H:%M:%S\")\n",
    "\n",
    "\n",
    "weather_df['DATE'] = pd.to_datetime(weather_df['dt'], unit='s').dt.strftime(\"%Y-%m-%d\")\n",
    "weather_df['HOUR'] = pd.to_datetime(weather_df['dt'], unit='s').dt.strftime(\"%H:%M:%S\")\n"
   ]
  },
  {
   "cell_type": "markdown",
   "metadata": {},
   "source": [
    "### Merge Data"
   ]
  },
  {
   "cell_type": "code",
   "execution_count": 11,
   "metadata": {},
   "outputs": [],
   "source": [
    "# Combine data tables and keep only the relevant headings\n",
    "result = pd.merge(trips_df[['DATE','TRIPID','LINEID','ROUTEID','DIRECTION','PLANNEDTIME','ACTUALTIME', \n",
    "                            'ACTUALTIME_SECONDS', 'HOUR']],\n",
    "                  leavetimes_df[['PROGRNUMBER','STOPPOINTID','PLANNEDTIME_ARR','PLANNEDTIME_DEP','ACTUALTIME_ARR',\n",
    "                                 'ACTUALTIME_DEP', 'TRIPID']],\n",
    "                 on='TRIPID', \n",
    "                 how='left')\n"
   ]
  },
  {
   "cell_type": "code",
   "execution_count": 13,
   "metadata": {},
   "outputs": [],
   "source": [
    "result = pd.merge(result,\n",
    "                  stops_df[['STOPID','STOPNAME','STOPLAT','STOPLON','STOPPOINTID']],\n",
    "                 on='STOPPOINTID', \n",
    "                 how='left')"
   ]
  },
  {
   "cell_type": "code",
   "execution_count": 14,
   "metadata": {},
   "outputs": [],
   "source": [
    "stop_detail = pd.merge(result,\n",
    "                  distance_df[['STOPID', 'DISTANCE_TRAVELLED', 'PROGRNUMBER']],\n",
    "                 on=['STOPID', 'PROGRNUMBER'],\n",
    "                 how='left')"
   ]
  },
  {
   "cell_type": "code",
   "execution_count": 15,
   "metadata": {},
   "outputs": [],
   "source": [
    "stop_detail = stop_detail[[\"LINEID\", \"ROUTEID\", 'DIRECTION', 'PROGRNUMBER', 'STOPID', \n",
    "                           'STOPNAME', 'STOPLAT', 'STOPLON', 'DISTANCE_TRAVELLED']]"
   ]
  },
  {
   "cell_type": "code",
   "execution_count": 16,
   "metadata": {},
   "outputs": [],
   "source": [
    "stop_detail = stop_detail.drop_duplicates(subset=[\"LINEID\", \"ROUTEID\", 'DIRECTION', 'PROGRNUMBER', 'STOPID', \n",
    "                           'STOPNAME', 'STOPLAT', 'STOPLON'], keep=\"first\")"
   ]
  },
  {
   "cell_type": "markdown",
   "metadata": {},
   "source": [
    "### Order Results and Clean\n",
    "If the stop is the first one on a route the distance is set to zero. For any other unknown distances the values are dropped. These dropped values are mainly for som less used routes."
   ]
  },
  {
   "cell_type": "code",
   "execution_count": 17,
   "metadata": {},
   "outputs": [],
   "source": [
    "stop_detail = stop_detail.sort_values(by=['ROUTEID', 'PROGRNUMBER'])"
   ]
  },
  {
   "cell_type": "code",
   "execution_count": 18,
   "metadata": {},
   "outputs": [],
   "source": [
    "stop_detail['DISTANCE_TRAVELLED'] = np.where(stop_detail['PROGRNUMBER'] == 1.0, 0.0, stop_detail['DISTANCE_TRAVELLED'])"
   ]
  },
  {
   "cell_type": "code",
   "execution_count": 19,
   "metadata": {},
   "outputs": [],
   "source": [
    "stop_detail = stop_detail.dropna(subset = [\"DISTANCE_TRAVELLED\"])"
   ]
  },
  {
   "cell_type": "code",
   "execution_count": 22,
   "metadata": {},
   "outputs": [],
   "source": [
    "stop_detail['DISTANCE_TRAVELLED'] = stop_detail['DISTANCE_TRAVELLED'].astype(str).str.replace(\",\", \"\").astype(float)"
   ]
  },
  {
   "cell_type": "markdown",
   "metadata": {},
   "source": [
    "### Generate New Columns"
   ]
  },
  {
   "cell_type": "code",
   "execution_count": 21,
   "metadata": {},
   "outputs": [],
   "source": [
    "stop_detail['previous_bus_id'] = stop_detail['ROUTEID'].shift(periods=1)"
   ]
  },
  {
   "cell_type": "code",
   "execution_count": 23,
   "metadata": {},
   "outputs": [],
   "source": [
    "stop_detail['previous_stop_dist'] = stop_detail['DISTANCE_TRAVELLED'].shift(periods=1)"
   ]
  },
  {
   "cell_type": "code",
   "execution_count": 24,
   "metadata": {},
   "outputs": [],
   "source": [
    "stop_detail['PREV_STOPID'] = stop_detail['STOPID'].shift(periods=1)"
   ]
  },
  {
   "cell_type": "code",
   "execution_count": 25,
   "metadata": {},
   "outputs": [],
   "source": [
    "stop_detail = stop_detail.where(stop_detail['ROUTEID'] == stop_detail['previous_bus_id'])"
   ]
  },
  {
   "cell_type": "code",
   "execution_count": 26,
   "metadata": {},
   "outputs": [],
   "source": [
    "stop_detail['DIST_BETWEEN'] = (stop_detail['DISTANCE_TRAVELLED']-stop_detail['previous_stop_dist']).where(stop_detail['ROUTEID'] == stop_detail['previous_bus_id'])"
   ]
  },
  {
   "cell_type": "code",
   "execution_count": 27,
   "metadata": {},
   "outputs": [],
   "source": [
    "stop_detail.dropna(subset = [\"STOPID\"], inplace=True)"
   ]
  },
  {
   "cell_type": "markdown",
   "metadata": {},
   "source": [
    "### Interesting Stats and Final Table\n",
    "Investigation needed into negative distances, very small distances and very large distances.\n",
    "\n",
    "Results generated here populate the dublinbus.tfi_station_distance SQL table."
   ]
  },
  {
   "cell_type": "code",
   "execution_count": 37,
   "metadata": {},
   "outputs": [
    {
     "data": {
      "text/html": [
       "<div>\n",
       "<style scoped>\n",
       "    .dataframe tbody tr th:only-of-type {\n",
       "        vertical-align: middle;\n",
       "    }\n",
       "\n",
       "    .dataframe tbody tr th {\n",
       "        vertical-align: top;\n",
       "    }\n",
       "\n",
       "    .dataframe thead th {\n",
       "        text-align: right;\n",
       "    }\n",
       "</style>\n",
       "<table border=\"1\" class=\"dataframe\">\n",
       "  <thead>\n",
       "    <tr style=\"text-align: right;\">\n",
       "      <th></th>\n",
       "      <th>ROUTEID</th>\n",
       "      <th>avg_DIST_BETWEEN</th>\n",
       "    </tr>\n",
       "  </thead>\n",
       "  <tbody>\n",
       "    <tr>\n",
       "      <th>0</th>\n",
       "      <td>102_10</td>\n",
       "      <td>432.018843</td>\n",
       "    </tr>\n",
       "    <tr>\n",
       "      <th>1</th>\n",
       "      <td>102_8</td>\n",
       "      <td>478.322581</td>\n",
       "    </tr>\n",
       "    <tr>\n",
       "      <th>2</th>\n",
       "      <td>102_9</td>\n",
       "      <td>455.205535</td>\n",
       "    </tr>\n",
       "    <tr>\n",
       "      <th>3</th>\n",
       "      <td>104_15</td>\n",
       "      <td>690.242996</td>\n",
       "    </tr>\n",
       "    <tr>\n",
       "      <th>4</th>\n",
       "      <td>104_16</td>\n",
       "      <td>372.314444</td>\n",
       "    </tr>\n",
       "    <tr>\n",
       "      <th>...</th>\n",
       "      <td>...</td>\n",
       "      <td>...</td>\n",
       "    </tr>\n",
       "    <tr>\n",
       "      <th>478</th>\n",
       "      <td>84_32</td>\n",
       "      <td>399.127660</td>\n",
       "    </tr>\n",
       "    <tr>\n",
       "      <th>479</th>\n",
       "      <td>9_5</td>\n",
       "      <td>316.800000</td>\n",
       "    </tr>\n",
       "    <tr>\n",
       "      <th>480</th>\n",
       "      <td>9_6</td>\n",
       "      <td>319.531250</td>\n",
       "    </tr>\n",
       "    <tr>\n",
       "      <th>481</th>\n",
       "      <td>9_7</td>\n",
       "      <td>350.705882</td>\n",
       "    </tr>\n",
       "    <tr>\n",
       "      <th>482</th>\n",
       "      <td>9_8</td>\n",
       "      <td>305.742857</td>\n",
       "    </tr>\n",
       "  </tbody>\n",
       "</table>\n",
       "<p>483 rows × 2 columns</p>\n",
       "</div>"
      ],
      "text/plain": [
       "    ROUTEID  avg_DIST_BETWEEN\n",
       "0    102_10        432.018843\n",
       "1     102_8        478.322581\n",
       "2     102_9        455.205535\n",
       "3    104_15        690.242996\n",
       "4    104_16        372.314444\n",
       "..      ...               ...\n",
       "478   84_32        399.127660\n",
       "479     9_5        316.800000\n",
       "480     9_6        319.531250\n",
       "481     9_7        350.705882\n",
       "482     9_8        305.742857\n",
       "\n",
       "[483 rows x 2 columns]"
      ]
     },
     "execution_count": 37,
     "metadata": {},
     "output_type": "execute_result"
    }
   ],
   "source": [
    "# Get average\n",
    "avg_dist = stop_detail.groupby('ROUTEID')['DIST_BETWEEN'].mean().reset_index().rename(columns={'DIST_BETWEEN': 'avg_DIST_BETWEEN'})\n",
    "avg_dist"
   ]
  },
  {
   "cell_type": "code",
   "execution_count": 31,
   "metadata": {},
   "outputs": [],
   "source": [
    "stop_final = stop_detail[['LINEID', 'ROUTEID', 'DIRECTION', 'PROGRNUMBER', 'STOPID', 'PREV_STOPID', \n",
    "                          'DISTANCE_TRAVELLED',  'DIST_BETWEEN']]"
   ]
  },
  {
   "cell_type": "code",
   "execution_count": 34,
   "metadata": {},
   "outputs": [],
   "source": [
    "stop_final = stop_final.reset_index(drop=True)\n",
    "stop_final.to_csv(\"stop_final.csv\")"
   ]
  },
  {
   "cell_type": "code",
   "execution_count": null,
   "metadata": {},
   "outputs": [],
   "source": []
  }
 ],
 "metadata": {
  "kernelspec": {
   "display_name": "Python 3",
   "language": "python",
   "name": "python3"
  },
  "language_info": {
   "codemirror_mode": {
    "name": "ipython",
    "version": 3
   },
   "file_extension": ".py",
   "mimetype": "text/x-python",
   "name": "python",
   "nbconvert_exporter": "python",
   "pygments_lexer": "ipython3",
   "version": "3.8.5"
  }
 },
 "nbformat": 4,
 "nbformat_minor": 4
}
