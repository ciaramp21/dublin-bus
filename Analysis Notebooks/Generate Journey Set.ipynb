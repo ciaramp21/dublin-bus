{
 "cells": [
  {
   "cell_type": "code",
   "execution_count": 1,
   "metadata": {},
   "outputs": [],
   "source": [
    "# Imports and general data\n",
    "import pandas as pd\n",
    "import numpy as np\n",
    "import matplotlib.pyplot as plt\n",
    "import datetime\n",
    "import seaborn as sns\n",
    "import re\n",
    "\n",
    "from sklearn import preprocessing\n",
    "from scipy.stats import chi2_contingency\n",
    "from matplotlib.backends.backend_pdf import PdfPages\n",
    "\n",
    "\n",
    "# hide ipykernel warnings \n",
    "import warnings\n",
    "warnings.filterwarnings('ignore')\n",
    "\n",
    "#Plotting inline\n",
    "%matplotlib inline"
   ]
  },
  {
   "cell_type": "markdown",
   "metadata": {},
   "source": [
    "### Import Data & Create Features"
   ]
  },
  {
   "cell_type": "code",
   "execution_count": 2,
   "metadata": {},
   "outputs": [],
   "source": [
    "trips_collist = ['DAYOFSERVICE', 'LINEID','ROUTEID','DIRECTION', 'PLANNEDTIME_DEP', 'TRIPID']\n",
    "leavetimes_collist = ['PROGRNUMBER','STOPPOINTID', 'DAYOFSERVICE', 'ACTUALTIME_ARR', 'TRIPID']\n",
    "distance_collist = ['STOPPOINTID', 'STOPID', 'PROGRNUMBER', 'DISTANCE_TRAVELLED']\n",
    "weather_collist = ['temp', 'weather_main', 'dt']"
   ]
  },
  {
   "cell_type": "code",
   "execution_count": 3,
   "metadata": {},
   "outputs": [],
   "source": [
    "# Import necessary data\n",
    "leavetimes_df = pd.read_csv('trim_leavetimes.csv', sep=';', usecols=leavetimes_collist) # Choose only relevant columns\n",
    "trips_df = pd.read_csv('trim_trips.csv', sep=';', usecols=trips_collist) #choose only relevant columns\n",
    "weather_df = pd.read_csv('Weather_2018.csv', usecols=weather_collist) #choose only relevant columns\n",
    "distance_df = pd.read_csv('distance_all.csv', usecols=distance_collist) #choose only relevant columns Check if this is taken from the old records that was used previously or if anything is missing"
   ]
  },
  {
   "cell_type": "code",
   "execution_count": 4,
   "metadata": {},
   "outputs": [],
   "source": [
    "# Adjust times from seconds to hh:mm:ss and get the expected and actual trip time\n",
    "trips_df['DATE'] = pd.to_datetime(trips_df['DAYOFSERVICE']).dt.strftime('%Y-%m-%d')\n",
    "trips_df['HOUR'] = pd.to_datetime(trips_df['PLANNEDTIME_DEP'], unit='s').dt.strftime(\"%H:00:00\")\n",
    "trips_df['DUMMY_DATE'] = pd.to_datetime(trips_df['DAYOFSERVICE']).dt.strftime('%Y%m%d')\n",
    "\n",
    "leavetimes_df['DUMMY_DATE'] = pd.to_datetime(leavetimes_df['DAYOFSERVICE']).dt.strftime('%Y%m%d')\n",
    "leavetimes_df['ACTUALTIME_ARR_TRIP'] = leavetimes_df['ACTUALTIME_ARR']\n",
    "\n",
    "trips_df['UNIQUEID'] = trips_df[\"DUMMY_DATE\"].astype(str) + \"_\" + trips_df[\"TRIPID\"].astype(str)\n",
    "leavetimes_df['UNIQUEID'] = leavetimes_df[\"DUMMY_DATE\"].astype(str) + \"_\" + leavetimes_df[\"TRIPID\"].astype(str)\n",
    "\n",
    "weather_df['DATE'] = pd.to_datetime(weather_df['dt'], unit='s').dt.strftime(\"%Y-%m-%d\")\n",
    "weather_df['HOUR'] = pd.to_datetime(weather_df['dt'], unit='s').dt.strftime(\"%H:%M:%S\")"
   ]
  },
  {
   "cell_type": "code",
   "execution_count": 5,
   "metadata": {},
   "outputs": [],
   "source": [
    "# Combine data tables and keep only the relevant headings\n",
    "result = pd.merge(trips_df[['DATE', 'LINEID','ROUTEID','DIRECTION',  'HOUR', 'UNIQUEID']],\n",
    "                  leavetimes_df[['PROGRNUMBER','STOPPOINTID', 'ACTUALTIME_ARR_TRIP', 'UNIQUEID']],\n",
    "                  on='UNIQUEID', \n",
    "                 how='left')"
   ]
  },
  {
   "cell_type": "code",
   "execution_count": 6,
   "metadata": {},
   "outputs": [],
   "source": [
    "result = pd.merge(result,\n",
    "                  distance_df[['STOPPOINTID', 'STOPID', 'PROGRNUMBER', 'DISTANCE_TRAVELLED']],\n",
    "                 on=['STOPPOINTID', 'PROGRNUMBER'],\n",
    "                 how='left')"
   ]
  },
  {
   "cell_type": "code",
   "execution_count": 7,
   "metadata": {},
   "outputs": [],
   "source": [
    "result = pd.merge(result,\n",
    "                  weather_df[['temp', 'weather_main', 'HOUR', 'DATE']],\n",
    "                  on=['HOUR', 'DATE'],\n",
    "                 how='left')"
   ]
  },
  {
   "cell_type": "code",
   "execution_count": 8,
   "metadata": {},
   "outputs": [],
   "source": [
    "result['DATE'] = pd.to_datetime(result['DATE'])\n",
    "result['WEEKDAY'] = result['DATE'].dt.day_name()"
   ]
  },
  {
   "cell_type": "markdown",
   "metadata": {},
   "source": [
    "### Set Relevant Columns and Order"
   ]
  },
  {
   "cell_type": "code",
   "execution_count": 9,
   "metadata": {},
   "outputs": [],
   "source": [
    "stop_detail = result.reindex(columns=['WEEKDAY', 'LINEID', 'ROUTEID', 'HOUR', 'DIRECTION', 'PROGRNUMBER',\n",
    "                                 'ACTUALTIME_ARR_TRIP', 'STOPID', 'temp', 'weather_main', 'DISTANCE_TRAVELLED', 'UNIQUEID'])"
   ]
  },
  {
   "cell_type": "code",
   "execution_count": 10,
   "metadata": {},
   "outputs": [],
   "source": [
    "stop_detail = stop_detail.sort_values(by=['UNIQUEID', 'PROGRNUMBER'])"
   ]
  },
  {
   "cell_type": "code",
   "execution_count": 11,
   "metadata": {},
   "outputs": [],
   "source": [
    "stop_detail['DISTANCE_TRAVELLED'] = np.where(stop_detail['PROGRNUMBER'] == 1.0, 0.0, \n",
    "                                             stop_detail['DISTANCE_TRAVELLED'])"
   ]
  },
  {
   "cell_type": "code",
   "execution_count": 12,
   "metadata": {},
   "outputs": [],
   "source": [
    "stop_detail = stop_detail.dropna(subset = [\"DISTANCE_TRAVELLED\"])"
   ]
  },
  {
   "cell_type": "code",
   "execution_count": 13,
   "metadata": {},
   "outputs": [],
   "source": [
    "stop_detail['DISTANCE_TRAVELLED'] = stop_detail['DISTANCE_TRAVELLED'].astype(str).str.replace(\",\", \"\").astype(float)"
   ]
  },
  {
   "cell_type": "markdown",
   "metadata": {},
   "source": [
    "### Generate New Mapping Data"
   ]
  },
  {
   "cell_type": "code",
   "execution_count": 14,
   "metadata": {},
   "outputs": [],
   "source": [
    "stop_detail = stop_detail[stop_detail['UNIQUEID'].map(stop_detail['UNIQUEID'].value_counts()) > 10]"
   ]
  },
  {
   "cell_type": "code",
   "execution_count": 15,
   "metadata": {},
   "outputs": [],
   "source": [
    "#stop_detail = stop_detail.head(100000) # Only for test data set"
   ]
  },
  {
   "cell_type": "code",
   "execution_count": 16,
   "metadata": {},
   "outputs": [],
   "source": [
    "dummy_journeys = stop_detail.groupby('UNIQUEID').apply(pd.DataFrame.sample, \n",
    "                                                       n=10).reset_index(drop=True)"
   ]
  },
  {
   "cell_type": "code",
   "execution_count": 17,
   "metadata": {},
   "outputs": [],
   "source": [
    "dummy_journeys['trip_index']= (dummy_journeys.index / 2 + 1).astype(int)"
   ]
  },
  {
   "cell_type": "code",
   "execution_count": 18,
   "metadata": {},
   "outputs": [],
   "source": [
    "dummy_journeys = dummy_journeys.sort_values(by=['UNIQUEID', 'trip_index', 'PROGRNUMBER'])"
   ]
  },
  {
   "cell_type": "code",
   "execution_count": 19,
   "metadata": {},
   "outputs": [],
   "source": [
    "dummy_journeys[\"UNIQUEID\"] = dummy_journeys[\"UNIQUEID\"] + \"_\" + dummy_journeys[\"trip_index\"].astype(str)"
   ]
  },
  {
   "cell_type": "markdown",
   "metadata": {},
   "source": [
    "### Generate New Feature Columns"
   ]
  },
  {
   "cell_type": "code",
   "execution_count": 20,
   "metadata": {},
   "outputs": [],
   "source": [
    "dummy_journeys['PREVIOUS_ID'] = dummy_journeys['UNIQUEID'].shift(periods=1)"
   ]
  },
  {
   "cell_type": "code",
   "execution_count": 21,
   "metadata": {},
   "outputs": [],
   "source": [
    "dummy_journeys['previous_stop_dist'] = dummy_journeys['DISTANCE_TRAVELLED'].shift(periods=1)"
   ]
  },
  {
   "cell_type": "code",
   "execution_count": 22,
   "metadata": {},
   "outputs": [],
   "source": [
    "dummy_journeys['PREV_STOPID'] = dummy_journeys['STOPID'].shift(periods=1)"
   ]
  },
  {
   "cell_type": "code",
   "execution_count": 23,
   "metadata": {},
   "outputs": [],
   "source": [
    "dummy_journeys['PREV_PROGRNUMBER'] = dummy_journeys['PROGRNUMBER'].shift(periods=1)"
   ]
  },
  {
   "cell_type": "code",
   "execution_count": 24,
   "metadata": {},
   "outputs": [],
   "source": [
    "dummy_journeys['PREV_TIME'] = dummy_journeys['ACTUALTIME_ARR_TRIP'].shift(periods=1)"
   ]
  },
  {
   "cell_type": "code",
   "execution_count": 25,
   "metadata": {},
   "outputs": [],
   "source": [
    "dummy_journeys = dummy_journeys.where(dummy_journeys['UNIQUEID'] == dummy_journeys['PREVIOUS_ID'])"
   ]
  },
  {
   "cell_type": "code",
   "execution_count": 26,
   "metadata": {},
   "outputs": [],
   "source": [
    "dummy_journeys['DIST_BETWEEN'] = (dummy_journeys['DISTANCE_TRAVELLED'] - \n",
    "                                  dummy_journeys['previous_stop_dist']).where(dummy_journeys['UNIQUEID'] == dummy_journeys['PREVIOUS_ID'])"
   ]
  },
  {
   "cell_type": "code",
   "execution_count": 27,
   "metadata": {},
   "outputs": [],
   "source": [
    "dummy_journeys['STOPS_BETWEEN'] = (dummy_journeys['PROGRNUMBER']-dummy_journeys['PREV_PROGRNUMBER']).where(dummy_journeys['UNIQUEID'] == dummy_journeys['PREVIOUS_ID'])"
   ]
  },
  {
   "cell_type": "code",
   "execution_count": 28,
   "metadata": {},
   "outputs": [],
   "source": [
    "dummy_journeys['JOURNEY_TIME'] = (dummy_journeys['ACTUALTIME_ARR_TRIP']-dummy_journeys['PREV_TIME']).where(dummy_journeys['UNIQUEID'] == dummy_journeys['PREVIOUS_ID'])"
   ]
  },
  {
   "cell_type": "code",
   "execution_count": 29,
   "metadata": {},
   "outputs": [],
   "source": [
    "dummy_journeys.dropna(subset = [\"STOPID\"], inplace=True)"
   ]
  },
  {
   "cell_type": "code",
   "execution_count": 30,
   "metadata": {},
   "outputs": [],
   "source": [
    "dummy_journeys = dummy_journeys[['WEEKDAY', 'LINEID', 'HOUR',  \n",
    "                                 'ROUTEID', 'DIRECTION', 'DIST_BETWEEN', \n",
    "                                 'STOPS_BETWEEN', 'temp', \n",
    "                                 'weather_main', 'JOURNEY_TIME']]"
   ]
  },
  {
   "cell_type": "code",
   "execution_count": 31,
   "metadata": {},
   "outputs": [
    {
     "data": {
      "text/html": [
       "<div>\n",
       "<style scoped>\n",
       "    .dataframe tbody tr th:only-of-type {\n",
       "        vertical-align: middle;\n",
       "    }\n",
       "\n",
       "    .dataframe tbody tr th {\n",
       "        vertical-align: top;\n",
       "    }\n",
       "\n",
       "    .dataframe thead th {\n",
       "        text-align: right;\n",
       "    }\n",
       "</style>\n",
       "<table border=\"1\" class=\"dataframe\">\n",
       "  <thead>\n",
       "    <tr style=\"text-align: right;\">\n",
       "      <th></th>\n",
       "      <th>WEEKDAY</th>\n",
       "      <th>LINEID</th>\n",
       "      <th>HOUR</th>\n",
       "      <th>ROUTEID</th>\n",
       "      <th>DIRECTION</th>\n",
       "      <th>DIST_BETWEEN</th>\n",
       "      <th>STOPS_BETWEEN</th>\n",
       "      <th>temp</th>\n",
       "      <th>weather_main</th>\n",
       "      <th>JOURNEY_TIME</th>\n",
       "    </tr>\n",
       "  </thead>\n",
       "  <tbody>\n",
       "    <tr>\n",
       "      <th>1</th>\n",
       "      <td>Monday</td>\n",
       "      <td>37</td>\n",
       "      <td>06:00:00</td>\n",
       "      <td>37_14</td>\n",
       "      <td>1.0</td>\n",
       "      <td>767.0</td>\n",
       "      <td>2.0</td>\n",
       "      <td>9.00</td>\n",
       "      <td>Drizzle</td>\n",
       "      <td>82.0</td>\n",
       "    </tr>\n",
       "    <tr>\n",
       "      <th>3</th>\n",
       "      <td>Monday</td>\n",
       "      <td>37</td>\n",
       "      <td>06:00:00</td>\n",
       "      <td>37_14</td>\n",
       "      <td>1.0</td>\n",
       "      <td>5336.0</td>\n",
       "      <td>14.0</td>\n",
       "      <td>9.00</td>\n",
       "      <td>Drizzle</td>\n",
       "      <td>1230.0</td>\n",
       "    </tr>\n",
       "    <tr>\n",
       "      <th>5</th>\n",
       "      <td>Monday</td>\n",
       "      <td>37</td>\n",
       "      <td>06:00:00</td>\n",
       "      <td>37_14</td>\n",
       "      <td>1.0</td>\n",
       "      <td>2664.0</td>\n",
       "      <td>8.0</td>\n",
       "      <td>9.00</td>\n",
       "      <td>Drizzle</td>\n",
       "      <td>494.0</td>\n",
       "    </tr>\n",
       "    <tr>\n",
       "      <th>6</th>\n",
       "      <td>Monday</td>\n",
       "      <td>37</td>\n",
       "      <td>06:00:00</td>\n",
       "      <td>37_14</td>\n",
       "      <td>1.0</td>\n",
       "      <td>9241.0</td>\n",
       "      <td>28.0</td>\n",
       "      <td>9.00</td>\n",
       "      <td>Drizzle</td>\n",
       "      <td>1101.0</td>\n",
       "    </tr>\n",
       "    <tr>\n",
       "      <th>9</th>\n",
       "      <td>Monday</td>\n",
       "      <td>37</td>\n",
       "      <td>06:00:00</td>\n",
       "      <td>37_14</td>\n",
       "      <td>1.0</td>\n",
       "      <td>14640.0</td>\n",
       "      <td>44.0</td>\n",
       "      <td>9.00</td>\n",
       "      <td>Drizzle</td>\n",
       "      <td>2400.0</td>\n",
       "    </tr>\n",
       "    <tr>\n",
       "      <th>...</th>\n",
       "      <td>...</td>\n",
       "      <td>...</td>\n",
       "      <td>...</td>\n",
       "      <td>...</td>\n",
       "      <td>...</td>\n",
       "      <td>...</td>\n",
       "      <td>...</td>\n",
       "      <td>...</td>\n",
       "      <td>...</td>\n",
       "      <td>...</td>\n",
       "    </tr>\n",
       "    <tr>\n",
       "      <th>355221</th>\n",
       "      <td>Sunday</td>\n",
       "      <td>79</td>\n",
       "      <td>17:00:00</td>\n",
       "      <td>79_11</td>\n",
       "      <td>2.0</td>\n",
       "      <td>4725.0</td>\n",
       "      <td>16.0</td>\n",
       "      <td>10.03</td>\n",
       "      <td>Clouds</td>\n",
       "      <td>933.0</td>\n",
       "    </tr>\n",
       "    <tr>\n",
       "      <th>355223</th>\n",
       "      <td>Sunday</td>\n",
       "      <td>79</td>\n",
       "      <td>17:00:00</td>\n",
       "      <td>79_11</td>\n",
       "      <td>2.0</td>\n",
       "      <td>1293.0</td>\n",
       "      <td>1.0</td>\n",
       "      <td>10.03</td>\n",
       "      <td>Clouds</td>\n",
       "      <td>211.0</td>\n",
       "    </tr>\n",
       "    <tr>\n",
       "      <th>355224</th>\n",
       "      <td>Sunday</td>\n",
       "      <td>79</td>\n",
       "      <td>17:00:00</td>\n",
       "      <td>79_11</td>\n",
       "      <td>2.0</td>\n",
       "      <td>4563.0</td>\n",
       "      <td>15.0</td>\n",
       "      <td>10.03</td>\n",
       "      <td>Clouds</td>\n",
       "      <td>929.0</td>\n",
       "    </tr>\n",
       "    <tr>\n",
       "      <th>355227</th>\n",
       "      <td>Sunday</td>\n",
       "      <td>79</td>\n",
       "      <td>17:00:00</td>\n",
       "      <td>79_11</td>\n",
       "      <td>2.0</td>\n",
       "      <td>538.0</td>\n",
       "      <td>2.0</td>\n",
       "      <td>10.03</td>\n",
       "      <td>Clouds</td>\n",
       "      <td>74.0</td>\n",
       "    </tr>\n",
       "    <tr>\n",
       "      <th>355228</th>\n",
       "      <td>Sunday</td>\n",
       "      <td>79</td>\n",
       "      <td>17:00:00</td>\n",
       "      <td>79_11</td>\n",
       "      <td>2.0</td>\n",
       "      <td>5647.0</td>\n",
       "      <td>20.0</td>\n",
       "      <td>10.03</td>\n",
       "      <td>Clouds</td>\n",
       "      <td>1035.0</td>\n",
       "    </tr>\n",
       "  </tbody>\n",
       "</table>\n",
       "<p>177615 rows × 10 columns</p>\n",
       "</div>"
      ],
      "text/plain": [
       "       WEEKDAY LINEID      HOUR ROUTEID  DIRECTION  DIST_BETWEEN  \\\n",
       "1       Monday     37  06:00:00   37_14        1.0         767.0   \n",
       "3       Monday     37  06:00:00   37_14        1.0        5336.0   \n",
       "5       Monday     37  06:00:00   37_14        1.0        2664.0   \n",
       "6       Monday     37  06:00:00   37_14        1.0        9241.0   \n",
       "9       Monday     37  06:00:00   37_14        1.0       14640.0   \n",
       "...        ...    ...       ...     ...        ...           ...   \n",
       "355221  Sunday     79  17:00:00   79_11        2.0        4725.0   \n",
       "355223  Sunday     79  17:00:00   79_11        2.0        1293.0   \n",
       "355224  Sunday     79  17:00:00   79_11        2.0        4563.0   \n",
       "355227  Sunday     79  17:00:00   79_11        2.0         538.0   \n",
       "355228  Sunday     79  17:00:00   79_11        2.0        5647.0   \n",
       "\n",
       "        STOPS_BETWEEN   temp weather_main  JOURNEY_TIME  \n",
       "1                 2.0   9.00      Drizzle          82.0  \n",
       "3                14.0   9.00      Drizzle        1230.0  \n",
       "5                 8.0   9.00      Drizzle         494.0  \n",
       "6                28.0   9.00      Drizzle        1101.0  \n",
       "9                44.0   9.00      Drizzle        2400.0  \n",
       "...               ...    ...          ...           ...  \n",
       "355221           16.0  10.03       Clouds         933.0  \n",
       "355223            1.0  10.03       Clouds         211.0  \n",
       "355224           15.0  10.03       Clouds         929.0  \n",
       "355227            2.0  10.03       Clouds          74.0  \n",
       "355228           20.0  10.03       Clouds        1035.0  \n",
       "\n",
       "[177615 rows x 10 columns]"
      ]
     },
     "execution_count": 31,
     "metadata": {},
     "output_type": "execute_result"
    }
   ],
   "source": [
    "dummy_journeys"
   ]
  },
  {
   "cell_type": "code",
   "execution_count": 32,
   "metadata": {},
   "outputs": [],
   "source": [
    "dummy_journeys.to_csv(\"dummy_journeys.csv\")"
   ]
  }
 ],
 "metadata": {
  "kernelspec": {
   "display_name": "Python 3",
   "language": "python",
   "name": "python3"
  },
  "language_info": {
   "codemirror_mode": {
    "name": "ipython",
    "version": 3
   },
   "file_extension": ".py",
   "mimetype": "text/x-python",
   "name": "python",
   "nbconvert_exporter": "python",
   "pygments_lexer": "ipython3",
   "version": "3.8.5"
  }
 },
 "nbformat": 4,
 "nbformat_minor": 4
}
